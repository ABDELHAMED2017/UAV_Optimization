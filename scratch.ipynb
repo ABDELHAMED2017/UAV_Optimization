{
 "cells": [
  {
   "cell_type": "code",
   "execution_count": 10,
   "metadata": {},
   "outputs": [],
   "source": [
    "import numpy as np\n",
    "import pandas as pd\n",
    "import matplotlib.pyplot as plt\n",
    "import networkx as nx\n",
    "import random\n",
    "from scipy.spatial.distance import pdist, squareform\n",
    "\n"
   ]
  },
  {
   "cell_type": "code",
   "execution_count": 4,
   "metadata": {},
   "outputs": [],
   "source": [
    "x_vals = random.sample(range(1, 5), 3)\n",
    "y_vals = random.sample(range(1, 5), 3)\n",
    "z_vals = [0]*3\n",
    "\n",
    "coordinates = list(zip(x_vals,y_vals,z_vals))"
   ]
  },
  {
   "cell_type": "code",
   "execution_count": 12,
   "metadata": {},
   "outputs": [
    {
     "output_type": "execute_result",
     "data": {
      "text/plain": "[(4, 3, 0), (1, 2, 0), (2, 1, 0)]"
     },
     "metadata": {},
     "execution_count": 12
    }
   ],
   "source": [
    "coordinates"
   ]
  },
  {
   "cell_type": "code",
   "execution_count": 124,
   "metadata": {},
   "outputs": [],
   "source": [
    "A = np.array(coordinates)"
   ]
  },
  {
   "cell_type": "code",
   "execution_count": 83,
   "metadata": {},
   "outputs": [
    {
     "output_type": "stream",
     "name": "stdout",
     "text": "[[0.         3.16227766 2.82842712]\n [3.16227766 0.         1.41421356]\n [2.82842712 1.41421356 0.        ]]\n"
    }
   ],
   "source": [
    "B = squareform(pdist(A))\n",
    "print(B)\n",
    "# B = list(B)\n",
    "# print(B)"
   ]
  },
  {
   "cell_type": "code",
   "execution_count": 118,
   "metadata": {},
   "outputs": [
    {
     "output_type": "stream",
     "name": "stdout",
     "text": "<class 'networkx.classes.graph.Graph'>\n"
    },
    {
     "output_type": "display_data",
     "data": {
      "text/plain": "<Figure size 432x288 with 1 Axes>",
      "image/svg+xml": "<?xml version=\"1.0\" encoding=\"utf-8\" standalone=\"no\"?>\n<!DOCTYPE svg PUBLIC \"-//W3C//DTD SVG 1.1//EN\"\n  \"http://www.w3.org/Graphics/SVG/1.1/DTD/svg11.dtd\">\n<!-- Created with matplotlib (https://matplotlib.org/) -->\n<svg height=\"302.4pt\" version=\"1.1\" viewBox=\"0 0 446.4 302.4\" width=\"446.4pt\" xmlns=\"http://www.w3.org/2000/svg\" xmlns:xlink=\"http://www.w3.org/1999/xlink\">\n <defs>\n  <style type=\"text/css\">\n*{stroke-linecap:butt;stroke-linejoin:round;}\n  </style>\n </defs>\n <g id=\"figure_1\">\n  <g id=\"patch_1\">\n   <path d=\"M 0 302.4 \nL 446.4 302.4 \nL 446.4 0 \nL 0 0 \nz\n\" style=\"fill:#ffffff;\"/>\n  </g>\n  <g id=\"axes_1\">\n   <g id=\"LineCollection_1\">\n    <path clip-path=\"url(#p37214a9336)\" d=\"M 374.506834 25.634438 \nL 414.713314 276.765562 \n\" style=\"fill:none;stroke:#000000;\"/>\n    <path clip-path=\"url(#p37214a9336)\" d=\"M 374.506834 25.634438 \nL 31.686686 102.049569 \n\" style=\"fill:none;stroke:#000000;\"/>\n    <path clip-path=\"url(#p37214a9336)\" d=\"M 414.713314 276.765562 \nL 31.686686 102.049569 \n\" style=\"fill:none;stroke:#000000;\"/>\n   </g>\n   <g id=\"PathCollection_1\">\n    <defs>\n     <path d=\"M 0 8.660254 \nC 2.296726 8.660254 4.499694 7.747755 6.123724 6.123724 \nC 7.747755 4.499694 8.660254 2.296726 8.660254 0 \nC 8.660254 -2.296726 7.747755 -4.499694 6.123724 -6.123724 \nC 4.499694 -7.747755 2.296726 -8.660254 0 -8.660254 \nC -2.296726 -8.660254 -4.499694 -7.747755 -6.123724 -6.123724 \nC -7.747755 -4.499694 -8.660254 -2.296726 -8.660254 0 \nC -8.660254 2.296726 -7.747755 4.499694 -6.123724 6.123724 \nC -4.499694 7.747755 -2.296726 8.660254 0 8.660254 \nz\n\" id=\"ma7f5d7cdbb\" style=\"stroke:#1f78b4;\"/>\n    </defs>\n    <g clip-path=\"url(#p37214a9336)\">\n     <use style=\"fill:#1f78b4;stroke:#1f78b4;\" x=\"374.506834\" xlink:href=\"#ma7f5d7cdbb\" y=\"25.634438\"/>\n     <use style=\"fill:#1f78b4;stroke:#1f78b4;\" x=\"414.713314\" xlink:href=\"#ma7f5d7cdbb\" y=\"276.765562\"/>\n     <use style=\"fill:#1f78b4;stroke:#1f78b4;\" x=\"31.686686\" xlink:href=\"#ma7f5d7cdbb\" y=\"102.049569\"/>\n    </g>\n   </g>\n  </g>\n </g>\n <defs>\n  <clipPath id=\"p37214a9336\">\n   <rect height=\"288\" width=\"432\" x=\"7.2\" y=\"7.2\"/>\n  </clipPath>\n </defs>\n</svg>\n",
      "image/png": "[encoded data removed]"
     },
     "metadata": {}
    }
   ],
   "source": [
    "G = nx.from_numpy_matrix(B)\n",
    "nx.draw(G)\n",
    "print(type(G))"
   ]
  },
  {
   "cell_type": "code",
   "execution_count": 121,
   "metadata": {},
   "outputs": [
    {
     "output_type": "stream",
     "name": "stdout",
     "text": "i= 1 j= 2\n"
    }
   ],
   "source": [
    "for i in range(3):\n",
    "    for j in range(3):\n",
    "        if (i!=j):\n",
    "            if G.get_edge_data(i,j) !=None:\n",
    "                if (G.get_edge_data(i,j)['weight']<2):\n",
    "                    print(\"i=\",i, \"j=\",j)\n",
    "                    G.remove_edge(i,j)"
   ]
  },
  {
   "cell_type": "code",
   "execution_count": 122,
   "metadata": {},
   "outputs": [
    {
     "output_type": "stream",
     "name": "stdout",
     "text": "i= 0 j= 0 None\ni= 0 j= 1 {'weight': 3.1622776601683795}\ni= 0 j= 2 {'weight': 2.8284271247461903}\ni= 1 j= 0 {'weight': 3.1622776601683795}\ni= 1 j= 1 None\ni= 1 j= 2 None\ni= 2 j= 0 {'weight': 2.8284271247461903}\ni= 2 j= 1 None\ni= 2 j= 2 None\n"
    }
   ],
   "source": [
    "for i in range(3):\n",
    "    for j in range(3):\n",
    "        print( \"i=\",i,\"j=\",j,G.get_edge_data(i,j))\n",
    "# print( G.get_edge_data(2,1))           "
   ]
  },
  {
   "cell_type": "code",
   "execution_count": 92,
   "metadata": {},
   "outputs": [
    {
     "output_type": "stream",
     "name": "stdout",
     "text": "{'weight': 1.4142135623730951}\n"
    }
   ],
   "source": [
    "print( G.get_edge_data(2,1))           "
   ]
  }
 ],
 "metadata": {
  "language_info": {
   "codemirror_mode": {
    "name": "ipython",
    "version": 3
   },
   "file_extension": ".py",
   "mimetype": "text/x-python",
   "name": "python",
   "nbconvert_exporter": "python",
   "pygments_lexer": "ipython3",
   "version": "3.7.4-final"
  },
  "orig_nbformat": 2,
  "kernelspec": {
   "name": "python3",
   "display_name": "Python 3"
  }
 },
 "nbformat": 4,
 "nbformat_minor": 2
}